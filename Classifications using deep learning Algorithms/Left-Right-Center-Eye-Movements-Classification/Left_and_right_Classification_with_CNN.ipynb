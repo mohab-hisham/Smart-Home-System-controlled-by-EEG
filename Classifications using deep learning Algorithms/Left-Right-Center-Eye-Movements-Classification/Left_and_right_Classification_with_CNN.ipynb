{
  "nbformat": 4,
  "nbformat_minor": 0,
  "metadata": {
    "colab": {
      "provenance": []
    },
    "kernelspec": {
      "name": "python3",
      "display_name": "Python 3"
    },
    "language_info": {
      "name": "python"
    }
  },
  "cells": [
    {
      "cell_type": "code",
      "execution_count": 1,
      "metadata": {
        "id": "68hJU98xDKSs"
      },
      "outputs": [],
      "source": [
        "import os\n",
        "import numpy as np\n",
        "from scipy.signal import *\n",
        "from scipy.fft import fft\n",
        "import matplotlib\n",
        "import matplotlib.pyplot as plt\n",
        "import csv\n",
        "import pandas as pd\n",
        "from sklearn.model_selection import train_test_split\n",
        "from keras.models import Sequential\n",
        "from keras.utils import to_categorical\n",
        "import keras.layers as layers\n",
        "from keras.optimizers import SGD\n",
        "from keras.initializers import random_uniform\n",
        "from keras.callbacks import EarlyStopping\n",
        "from google.colab import drive\n",
        "import random\n",
        "import seaborn as sns\n",
        "import tensorflow as tf\n",
        "from sklearn.model_selection import StratifiedKFold\n",
        "from sklearn import metrics"
      ]
    },
    {
      "cell_type": "code",
      "source": [
        "drive.mount('/content/gdrive')\n",
        "# data_path_mohab = 'gdrive/MyDrive/Left_Right_CNN_Data/mohab/'\n",
        "# data_path_mansour = 'gdrive/MyDrive/Left_Right_CNN_Data/mansour/'\n",
        "# data_path_hamza = 'gdrive/MyDrive/Left_Right_CNN_Data/hamza/'\n",
        "# data_path_moaaz = 'gdrive/MyDrive/Left_Right_CNN_Data/moaaz/'\n",
        "# data_path_unknown = 'gdrive/MyDrive/Left_Right_CNN_Data/Subject_Unknown/'\n",
        "data_path_newdata_tark = 'gdrive/MyDrive/Left_Right_CNN_Data/New_Data/Tark/'\n",
        "data_path_newdata_mohab = 'gdrive/MyDrive/Left_Right_CNN_Data/New_Data/Mohab/'\n",
        "data_pathes = [data_path_newdata_tark, data_path_newdata_mohab]\n",
        "fs = 256"
      ],
      "metadata": {
        "id": "uiV0L4CNDZvM",
        "colab": {
          "base_uri": "https://localhost:8080/"
        },
        "outputId": "80d3c0b1-86dd-44c7-de82-a33513fe3bae"
      },
      "execution_count": 2,
      "outputs": [
        {
          "output_type": "stream",
          "name": "stdout",
          "text": [
            "Mounted at /content/gdrive\n"
          ]
        }
      ]
    },
    {
      "cell_type": "code",
      "source": [
        "def get_signals(data_path):\n",
        "\n",
        "    cwd = os.path.abspath(data_path)\n",
        "    files = [f for f in os.listdir(cwd) if os.path.isfile(os.path.join(cwd, f))]\n",
        "    ## Method 1 gets the first sheet of a given file\n",
        "    Left_Data = pd.DataFrame()\n",
        "    Center_Data = pd.DataFrame()\n",
        "    Right_Data = pd.DataFrame()\n",
        "    for file in files:\n",
        "        if file.endswith('.csv'):\n",
        "          if file.startswith('Left'):\n",
        "            Left = pd.read_csv(data_path+file)\n",
        "            Left_Data = pd.concat([Left_Data, Left], ignore_index=True)\n",
        "          elif file.startswith('Right'):\n",
        "            Right = pd.read_csv(data_path+file)\n",
        "            Right_Data = pd.concat([Right_Data, Right], ignore_index=True)\n",
        "          else :\n",
        "            Center = pd.read_csv(data_path+file)\n",
        "            Center_Data = pd.concat([Center_Data, Center], ignore_index=True)\n",
        "\n",
        "    return Left_Data, Center_Data, Right_Data"
      ],
      "metadata": {
        "id": "p4unPtBea0Pi"
      },
      "execution_count": 3,
      "outputs": []
    },
    {
      "cell_type": "code",
      "source": [
        "def get_windows(signal, window_size, window_stride):\n",
        "\n",
        "    windows = []\n",
        "    # windows_times = []\n",
        "    window_features = []\n",
        "    # if len(signal[0]) == len(time):\n",
        "    for j in range(0, len(signal)-window_size, window_stride):\n",
        "        # window_time = time[j:j+window_size]\n",
        "        # windows_times.append(window_time)\n",
        "\n",
        "        for i in range(len(signal[0])):\n",
        "            window_feature = signal[j:j+window_size,i]\n",
        "            window_features.append(window_feature)\n",
        "        windows.append(window_features)\n",
        "        window_features = []\n",
        "    windows = np.array(windows)\n",
        "    # windows_times = np.array(windows_times)\n",
        "    return windows"
      ],
      "metadata": {
        "id": "RIaSLXwABvCb"
      },
      "execution_count": 73,
      "outputs": []
    },
    {
      "cell_type": "code",
      "source": [
        "def get_labels(Left_Data, Center_Data, Right_Data):\n",
        "    return ([0 for _ in range(Left_Data.shape[0])],\n",
        "    [1 for _ in range(Center_Data.shape[0])],\n",
        "    [2 for _ in range(Right_Data.shape[0])])\n"
      ],
      "metadata": {
        "id": "e11hzHcYB7cQ"
      },
      "execution_count": 5,
      "outputs": []
    },
    {
      "cell_type": "code",
      "source": [
        "def cocatenate_and_randomize(Windows_Left_Data, Windows_Left_Labels, Windows_Center_Data, Windows_Center_Labels, Windows_Right_Data, Windows_Right_Labels):\n",
        "    random.seed(4)\n",
        "    Directions = np.concatenate((Windows_Left_Data, Windows_Center_Data, Windows_Right_Data), axis=0)\n",
        "    Directions_Labels = np.concatenate((Windows_Left_Labels, Windows_Center_Labels, Windows_Right_Labels), axis=0)\n",
        "    temp = list(zip(Directions, Directions_Labels))\n",
        "    random.shuffle(temp)\n",
        "\n",
        "    Directions_Randomized, Directions_Labels_Randomized = zip(*temp)\n",
        "    # blinkingWithNoise_randomized and blinkingWithNoise_labels_randomized come out as tuples, and so must be converted to lists.\n",
        "    return list(Directions_Randomized), list(Directions_Labels_Randomized)"
      ],
      "metadata": {
        "id": "hLbMWvfhCtUz"
      },
      "execution_count": 6,
      "outputs": []
    },
    {
      "cell_type": "code",
      "source": [
        "def create_dataset_without_filter(data_pathes):\n",
        "\n",
        "    Left_Data = pd.DataFrame()\n",
        "    Center_Data = pd.DataFrame()\n",
        "    Right_Data = pd.DataFrame()\n",
        "\n",
        "    for data_path in data_pathes:\n",
        "      Left_Data_File, Center_Data_File, Right_Data_File = get_signals(data_path)\n",
        "      Left_Data = pd.concat([Left_Data, Left_Data_File], axis=0)\n",
        "      Center_Data = pd.concat([Center_Data, Center_Data_File], axis=0)\n",
        "      Right_Data = pd.concat([Right_Data, Right_Data_File], axis=0)\n",
        "    Left_Data = Left_Data.drop(['timestamps', 'Right AUX', 'TP9', 'TP10'], axis = 1, errors='ignore')\n",
        "    Center_Data = Center_Data.drop(['timestamps', 'Right AUX', 'TP9', 'TP10'], axis = 1, errors='ignore')\n",
        "    Right_Data = Right_Data.drop(['timestamps', 'Right AUX', 'TP9', 'TP10'], axis = 1, errors='ignore')\n",
        "    Center_Data = Center_Data.dropna()\n",
        "    Left_Data = Left_Data.dropna()\n",
        "    Right_Data = Right_Data.dropna()\n",
        "    # interval_corrupt, blinks = get_blinks(label_files, data_path, file_idx, signals)\n",
        "    # time = signals[:,0]\n",
        "    # signal = signals[:,1:3]\n",
        "    # filtered_signal_blinks = butter_filter(blinks, fs, fc_low, 'high')\n",
        "    # filtered_signal_noBlinks = butter_filter(noBlinks, fs, fc_low, 'high')\n",
        "    #filtered_signal = butter_filter(filtered_signal, fs, fc = fc_low)\n",
        "    Left_Data = np.array(Left_Data)\n",
        "    Center_Data = np.array(Center_Data)\n",
        "    Right_Data = np.array(Right_Data)\n",
        "\n",
        "    windows_Left_Data = get_windows(Left_Data, 480, 128)\n",
        "    windows_Center_Data = get_windows(Center_Data, 480, 128)\n",
        "    windows_Right_Data = get_windows(Right_Data, 480, 128)\n",
        "    print(windows_Left_Data.shape)\n",
        "    Left_Labels, Center_Labels, Right_Labels = get_labels(windows_Left_Data, windows_Center_Data, windows_Right_Data)\n",
        "\n",
        "    Eye_Directions_Data, Eye_Directions_Labels = cocatenate_and_randomize(windows_Left_Data, Left_Labels, windows_Center_Data, Center_Labels, windows_Right_Data, Right_Labels)\n",
        "\n",
        "    return np.array(Eye_Directions_Data), np.array(Eye_Directions_Labels)"
      ],
      "metadata": {
        "id": "di8ioEeDFkYG"
      },
      "execution_count": 76,
      "outputs": []
    },
    {
      "cell_type": "code",
      "source": [
        "Eye_Directions_Data, Eye_Directions_Labels = create_dataset_without_filter(data_pathes)"
      ],
      "metadata": {
        "id": "B1xiscMlI6FX",
        "colab": {
          "base_uri": "https://localhost:8080/"
        },
        "outputId": "e3d3f1a1-4b49-431c-effe-0ece254e50d6"
      },
      "execution_count": 77,
      "outputs": [
        {
          "output_type": "stream",
          "name": "stdout",
          "text": [
            "(51489, 2)\n",
            "(399, 2, 480)\n"
          ]
        }
      ]
    },
    {
      "cell_type": "code",
      "source": [
        "print(Eye_Directions_Data.shape)"
      ],
      "metadata": {
        "colab": {
          "base_uri": "https://localhost:8080/"
        },
        "id": "IL0YHtYUM5FW",
        "outputId": "0733d9b1-3750-46b1-d93c-408bcd7fe86e"
      },
      "execution_count": 78,
      "outputs": [
        {
          "output_type": "stream",
          "name": "stdout",
          "text": [
            "(1245, 2, 480)\n"
          ]
        }
      ]
    },
    {
      "cell_type": "code",
      "source": [
        "#for frequency domain\n",
        "\n",
        "\n",
        "# freq_domain_sample_rate = fs/2\n",
        "\n",
        "# ranges = [(0, 4), (4, 8), (9, 13), (14, 30), (30, 100)]\n",
        "\n",
        "# def time_to_freq_domain(directions):\n",
        "#     freq_domain_data = []\n",
        "#     freq_domain_data_window = []\n",
        "#     for i in range(directions.shape[0]):\n",
        "#       for j in range(directions.shape[1]):\n",
        "#         F,PSD = welch(directions[i, j], freq_domain_sample_rate, nperseg=directions.shape[2])\n",
        "#         data = [PSD[(F >= lower) & (F <= upper)] for lower, upper in ranges]\n",
        "\n",
        "#         for k in range(len(data)):\n",
        "#           data[k] = np.pad(data[k], (0, len(data[4])-len(data[k])), mode='constant')\n",
        "#         freq_domain_data_window = np.vstack([freq_domain_data_window, data]) if len(freq_domain_data_window) else data\n",
        "#       freq_domain_data.append(freq_domain_data_window)\n",
        "#       freq_domain_data_window = []\n",
        "#     return freq_domain_data"
      ],
      "metadata": {
        "id": "zlYdqwdZNODN"
      },
      "execution_count": null,
      "outputs": []
    },
    {
      "cell_type": "code",
      "source": [
        "# Eye_Directions_freq_domain_data = time_to_freq_domain(Eye_Directions_Data)\n",
        "# Eye_Directions_freq_domain_data = np.array(Eye_Directions_freq_domain_data)"
      ],
      "metadata": {
        "id": "2dlaQNwAQ_FQ"
      },
      "execution_count": null,
      "outputs": []
    },
    {
      "cell_type": "code",
      "source": [
        "# early_stopping = EarlyStopping(\n",
        "#     min_delta=0.001, # minimium amount of change to count as an improvement\n",
        "#     patience=20, # how many epochs to wait before stopping\n",
        "#     restore_best_weights=True,\n",
        "# )"
      ],
      "metadata": {
        "id": "n5ZAsUe90Dz0"
      },
      "execution_count": null,
      "outputs": []
    },
    {
      "cell_type": "code",
      "source": [
        "def create_model(X_train):\n",
        "  model = Sequential([\n",
        "\n",
        "      # first convolution block\n",
        "      layers.Conv1D(filters=32, kernel_size=5, activation='relu', input_shape = X_train[0].shape),\n",
        "      layers.MaxPool1D(),\n",
        "\n",
        "      # second convolution block\n",
        "      layers.Conv1D(filters=64, kernel_size=3, activation='relu'),\n",
        "      layers.MaxPool1D(),\n",
        "\n",
        "      # third convolution block\n",
        "      layers.Conv1D(filters=64, kernel_size=1, activation='relu'),\n",
        "      layers.MaxPool1D(),\n",
        "\n",
        "      # classifier head\n",
        "      layers.Flatten(),\n",
        "      layers.Dense(16, activation='relu', input_shape = (512,)),\n",
        "      layers.Dense(3, activation='softmax'),\n",
        "  ])\n",
        "  model.compile(\n",
        "    optimizer='adam',\n",
        "    loss='categorical_crossentropy',\n",
        "    metrics=['categorical_accuracy'],\n",
        "  )\n",
        "  return model"
      ],
      "metadata": {
        "id": "48d7ZS_G0f6t"
      },
      "execution_count": 81,
      "outputs": []
    },
    {
      "cell_type": "code",
      "source": [
        "# Define the number of cross-validation folds\n",
        "n_folds = 5\n",
        "\n",
        "# Define the cross-validation iterator\n",
        "cv = StratifiedKFold(n_splits=n_folds, shuffle=True, random_state=42)\n",
        "\n",
        "# Perform cross-validation\n",
        "for train_index, val_index in cv.split(Eye_Directions_Data, Eye_Directions_Labels):\n",
        "    # Split the data into training and validation sets\n",
        "    X_train, X_val = Eye_Directions_Data[train_index], Eye_Directions_Data[val_index]\n",
        "    Y_train, Y_val = Eye_Directions_Labels[train_index], Eye_Directions_Labels[val_index]\n",
        "    X_train = np.transpose(X_train, (0, 2, 1))\n",
        "    X_val = np.transpose(X_val, (0, 2, 1))\n",
        "\n",
        "    #create model\n",
        "    model = create_model(X_train)\n",
        "\n",
        "    # Fit the model on the training data\n",
        "    Y_train = to_categorical(Y_train,num_classes=3)\n",
        "    Y_val = to_categorical(Y_val,num_classes=3)\n",
        "    history = model.fit(\n",
        "    X_train,\n",
        "    Y_train,\n",
        "    epochs = 30,\n",
        "    batch_size = 32\n",
        "    )\n",
        "\n",
        "    # Evaluate the model on the validation data\n",
        "    loss, acc = model.evaluate(X_val, Y_val, verbose = 0)\n",
        "\n",
        "    # Print the validation accuracy for this fold\n",
        "    print('Validation accuracy: %.3f' % acc)\n",
        "\n",
        "# history = model.fit(\n",
        "#     X_train,\n",
        "#     Y_train,\n",
        "#     validation_data = (X_val, Y_val),\n",
        "#     epochs = 200,\n",
        "#     batch_size = 32,\n",
        "#     callbacks = [early_stopping]\n",
        "# )"
      ],
      "metadata": {
        "colab": {
          "base_uri": "https://localhost:8080/"
        },
        "id": "VED0MFxf1mq4",
        "outputId": "82197c00-5d8d-4795-9de0-c328918bdb33"
      },
      "execution_count": 82,
      "outputs": [
        {
          "output_type": "stream",
          "name": "stdout",
          "text": [
            "Epoch 1/30\n",
            "32/32 [==============================] - 3s 56ms/step - loss: 1.1841 - categorical_accuracy: 0.5432\n",
            "Epoch 2/30\n",
            "32/32 [==============================] - 2s 55ms/step - loss: 0.6055 - categorical_accuracy: 0.7098\n",
            "Epoch 3/30\n",
            "32/32 [==============================] - 1s 31ms/step - loss: 0.4827 - categorical_accuracy: 0.7781\n",
            "Epoch 4/30\n",
            "32/32 [==============================] - 1s 31ms/step - loss: 0.4086 - categorical_accuracy: 0.8193\n",
            "Epoch 5/30\n",
            "32/32 [==============================] - 1s 30ms/step - loss: 0.3801 - categorical_accuracy: 0.8243\n",
            "Epoch 6/30\n",
            "32/32 [==============================] - 1s 30ms/step - loss: 0.3488 - categorical_accuracy: 0.8504\n",
            "Epoch 7/30\n",
            "32/32 [==============================] - 1s 30ms/step - loss: 0.3748 - categorical_accuracy: 0.8343\n",
            "Epoch 8/30\n",
            "32/32 [==============================] - 1s 30ms/step - loss: 0.3110 - categorical_accuracy: 0.8735\n",
            "Epoch 9/30\n",
            "32/32 [==============================] - 1s 30ms/step - loss: 0.2609 - categorical_accuracy: 0.8996\n",
            "Epoch 10/30\n",
            "32/32 [==============================] - 1s 31ms/step - loss: 0.2360 - categorical_accuracy: 0.9086\n",
            "Epoch 11/30\n",
            "32/32 [==============================] - 1s 30ms/step - loss: 0.2155 - categorical_accuracy: 0.9096\n",
            "Epoch 12/30\n",
            "32/32 [==============================] - 1s 30ms/step - loss: 0.1741 - categorical_accuracy: 0.9378\n",
            "Epoch 13/30\n",
            "32/32 [==============================] - 1s 46ms/step - loss: 0.1566 - categorical_accuracy: 0.9418\n",
            "Epoch 14/30\n",
            "32/32 [==============================] - 2s 53ms/step - loss: 0.1298 - categorical_accuracy: 0.9548\n",
            "Epoch 15/30\n",
            "32/32 [==============================] - 2s 54ms/step - loss: 0.1154 - categorical_accuracy: 0.9498\n",
            "Epoch 16/30\n",
            "32/32 [==============================] - 1s 32ms/step - loss: 0.1475 - categorical_accuracy: 0.9458\n",
            "Epoch 17/30\n",
            "32/32 [==============================] - 1s 30ms/step - loss: 0.1349 - categorical_accuracy: 0.9428\n",
            "Epoch 18/30\n",
            "32/32 [==============================] - 1s 30ms/step - loss: 0.0925 - categorical_accuracy: 0.9739\n",
            "Epoch 19/30\n",
            "32/32 [==============================] - 1s 30ms/step - loss: 0.0753 - categorical_accuracy: 0.9709\n",
            "Epoch 20/30\n",
            "32/32 [==============================] - 1s 30ms/step - loss: 0.0906 - categorical_accuracy: 0.9709\n",
            "Epoch 21/30\n",
            "32/32 [==============================] - 1s 31ms/step - loss: 0.0525 - categorical_accuracy: 0.9849\n",
            "Epoch 22/30\n",
            "32/32 [==============================] - 1s 30ms/step - loss: 0.0860 - categorical_accuracy: 0.9699\n",
            "Epoch 23/30\n",
            "32/32 [==============================] - 1s 31ms/step - loss: 0.0835 - categorical_accuracy: 0.9709\n",
            "Epoch 24/30\n",
            "32/32 [==============================] - 1s 30ms/step - loss: 0.0544 - categorical_accuracy: 0.9769\n",
            "Epoch 25/30\n",
            "32/32 [==============================] - 1s 31ms/step - loss: 0.0290 - categorical_accuracy: 0.9930\n",
            "Epoch 26/30\n",
            "32/32 [==============================] - 1s 47ms/step - loss: 0.0360 - categorical_accuracy: 0.9880\n",
            "Epoch 27/30\n",
            "32/32 [==============================] - 2s 52ms/step - loss: 0.1651 - categorical_accuracy: 0.9428\n",
            "Epoch 28/30\n",
            "32/32 [==============================] - 2s 53ms/step - loss: 0.0445 - categorical_accuracy: 0.9880\n",
            "Epoch 29/30\n",
            "32/32 [==============================] - 1s 35ms/step - loss: 0.0213 - categorical_accuracy: 0.9960\n",
            "Epoch 30/30\n",
            "32/32 [==============================] - 1s 30ms/step - loss: 0.0112 - categorical_accuracy: 1.0000\n",
            "Validation accuracy: 0.896\n",
            "Epoch 1/30\n",
            "32/32 [==============================] - 2s 31ms/step - loss: 1.9427 - categorical_accuracy: 0.3313\n",
            "Epoch 2/30\n",
            "32/32 [==============================] - 1s 30ms/step - loss: 1.0771 - categorical_accuracy: 0.3614\n",
            "Epoch 3/30\n",
            "32/32 [==============================] - 1s 30ms/step - loss: 1.0452 - categorical_accuracy: 0.4629\n",
            "Epoch 4/30\n",
            "32/32 [==============================] - 1s 30ms/step - loss: 1.0503 - categorical_accuracy: 0.4388\n",
            "Epoch 5/30\n",
            "32/32 [==============================] - 1s 30ms/step - loss: 1.0191 - categorical_accuracy: 0.4769\n",
            "Epoch 6/30\n",
            "32/32 [==============================] - 1s 30ms/step - loss: 0.9989 - categorical_accuracy: 0.4869\n",
            "Epoch 7/30\n",
            "32/32 [==============================] - 1s 30ms/step - loss: 0.9762 - categorical_accuracy: 0.5000\n",
            "Epoch 8/30\n",
            "32/32 [==============================] - 2s 54ms/step - loss: 0.9683 - categorical_accuracy: 0.5000\n",
            "Epoch 9/30\n",
            "32/32 [==============================] - 2s 55ms/step - loss: 0.9668 - categorical_accuracy: 0.5201\n",
            "Epoch 10/30\n",
            "32/32 [==============================] - 1s 45ms/step - loss: 0.9630 - categorical_accuracy: 0.5080\n",
            "Epoch 11/30\n",
            "32/32 [==============================] - 1s 30ms/step - loss: 0.9432 - categorical_accuracy: 0.5120\n",
            "Epoch 12/30\n",
            "32/32 [==============================] - 1s 30ms/step - loss: 0.9265 - categorical_accuracy: 0.5171\n",
            "Epoch 13/30\n",
            "32/32 [==============================] - 1s 30ms/step - loss: 0.9219 - categorical_accuracy: 0.5241\n",
            "Epoch 14/30\n",
            "32/32 [==============================] - 1s 30ms/step - loss: 0.9123 - categorical_accuracy: 0.5191\n",
            "Epoch 15/30\n",
            "32/32 [==============================] - 1s 30ms/step - loss: 0.9101 - categorical_accuracy: 0.5271\n",
            "Epoch 16/30\n",
            "32/32 [==============================] - 1s 31ms/step - loss: 0.9048 - categorical_accuracy: 0.5281\n",
            "Epoch 17/30\n",
            "32/32 [==============================] - 1s 30ms/step - loss: 0.9039 - categorical_accuracy: 0.5251\n",
            "Epoch 18/30\n",
            "32/32 [==============================] - 1s 30ms/step - loss: 0.9063 - categorical_accuracy: 0.5271\n",
            "Epoch 19/30\n",
            "32/32 [==============================] - 1s 29ms/step - loss: 0.8953 - categorical_accuracy: 0.5271\n",
            "Epoch 20/30\n",
            "32/32 [==============================] - 1s 31ms/step - loss: 0.8910 - categorical_accuracy: 0.5271\n",
            "Epoch 21/30\n",
            "32/32 [==============================] - 2s 53ms/step - loss: 0.8944 - categorical_accuracy: 0.5301\n",
            "Epoch 22/30\n",
            "32/32 [==============================] - 2s 54ms/step - loss: 0.9378 - categorical_accuracy: 0.5422\n",
            "Epoch 23/30\n",
            "32/32 [==============================] - 1s 46ms/step - loss: 0.9485 - categorical_accuracy: 0.4930\n",
            "Epoch 24/30\n",
            "32/32 [==============================] - 1s 31ms/step - loss: 0.9159 - categorical_accuracy: 0.5161\n",
            "Epoch 25/30\n",
            "32/32 [==============================] - 1s 30ms/step - loss: 0.9070 - categorical_accuracy: 0.5211\n",
            "Epoch 26/30\n",
            "32/32 [==============================] - 1s 30ms/step - loss: 0.8936 - categorical_accuracy: 0.5572\n",
            "Epoch 27/30\n",
            "32/32 [==============================] - 1s 30ms/step - loss: 0.8653 - categorical_accuracy: 0.6074\n",
            "Epoch 28/30\n",
            "32/32 [==============================] - 1s 31ms/step - loss: 0.7710 - categorical_accuracy: 0.6978\n",
            "Epoch 29/30\n",
            "32/32 [==============================] - 1s 30ms/step - loss: 0.7015 - categorical_accuracy: 0.7450\n",
            "Epoch 30/30\n",
            "32/32 [==============================] - 1s 30ms/step - loss: 0.5777 - categorical_accuracy: 0.8313\n",
            "Validation accuracy: 0.815\n",
            "Epoch 1/30\n",
            "32/32 [==============================] - 2s 30ms/step - loss: 1.6608 - categorical_accuracy: 0.5663\n",
            "Epoch 2/30\n",
            "32/32 [==============================] - 1s 44ms/step - loss: 0.4999 - categorical_accuracy: 0.7390\n",
            "Epoch 3/30\n",
            "32/32 [==============================] - 2s 53ms/step - loss: 0.4010 - categorical_accuracy: 0.8193\n",
            "Epoch 4/30\n",
            "32/32 [==============================] - 2s 52ms/step - loss: 0.2490 - categorical_accuracy: 0.9207\n",
            "Epoch 5/30\n",
            "32/32 [==============================] - 1s 36ms/step - loss: 0.1583 - categorical_accuracy: 0.9528\n",
            "Epoch 6/30\n",
            "32/32 [==============================] - 1s 30ms/step - loss: 0.0980 - categorical_accuracy: 0.9699\n",
            "Epoch 7/30\n",
            "32/32 [==============================] - 1s 30ms/step - loss: 0.0907 - categorical_accuracy: 0.9699\n",
            "Epoch 8/30\n",
            "32/32 [==============================] - 1s 30ms/step - loss: 0.0986 - categorical_accuracy: 0.9719\n",
            "Epoch 9/30\n",
            "32/32 [==============================] - 1s 30ms/step - loss: 0.0705 - categorical_accuracy: 0.9789\n",
            "Epoch 10/30\n",
            "32/32 [==============================] - 1s 31ms/step - loss: 0.0514 - categorical_accuracy: 0.9859\n",
            "Epoch 11/30\n",
            "32/32 [==============================] - 1s 31ms/step - loss: 0.0353 - categorical_accuracy: 0.9880\n",
            "Epoch 12/30\n",
            "32/32 [==============================] - 1s 30ms/step - loss: 0.0327 - categorical_accuracy: 0.9930\n",
            "Epoch 13/30\n",
            "32/32 [==============================] - 1s 31ms/step - loss: 0.0334 - categorical_accuracy: 0.9920\n",
            "Epoch 14/30\n",
            "32/32 [==============================] - 1s 30ms/step - loss: 0.0404 - categorical_accuracy: 0.9920\n",
            "Epoch 15/30\n",
            "32/32 [==============================] - 1s 38ms/step - loss: 0.0323 - categorical_accuracy: 0.9920\n",
            "Epoch 16/30\n",
            "32/32 [==============================] - 2s 53ms/step - loss: 0.0209 - categorical_accuracy: 0.9920\n",
            "Epoch 17/30\n",
            "32/32 [==============================] - 2s 54ms/step - loss: 0.0229 - categorical_accuracy: 0.9890\n",
            "Epoch 18/30\n",
            "32/32 [==============================] - 1s 42ms/step - loss: 0.0218 - categorical_accuracy: 0.9920\n",
            "Epoch 19/30\n",
            "32/32 [==============================] - 1s 31ms/step - loss: 0.0141 - categorical_accuracy: 0.9960\n",
            "Epoch 20/30\n",
            "32/32 [==============================] - 1s 30ms/step - loss: 0.0132 - categorical_accuracy: 0.9960\n",
            "Epoch 21/30\n",
            "32/32 [==============================] - 1s 30ms/step - loss: 0.0101 - categorical_accuracy: 0.9980\n",
            "Epoch 22/30\n",
            "32/32 [==============================] - 1s 30ms/step - loss: 0.0201 - categorical_accuracy: 0.9920\n",
            "Epoch 23/30\n",
            "32/32 [==============================] - 1s 31ms/step - loss: 0.0406 - categorical_accuracy: 0.9829\n",
            "Epoch 24/30\n",
            "32/32 [==============================] - 1s 30ms/step - loss: 0.1568 - categorical_accuracy: 0.9508\n",
            "Epoch 25/30\n",
            "32/32 [==============================] - 1s 30ms/step - loss: 0.2176 - categorical_accuracy: 0.9408\n",
            "Epoch 26/30\n",
            "32/32 [==============================] - 1s 31ms/step - loss: 0.1145 - categorical_accuracy: 0.9649\n",
            "Epoch 27/30\n",
            "32/32 [==============================] - 1s 30ms/step - loss: 0.0357 - categorical_accuracy: 0.9910\n",
            "Epoch 28/30\n",
            "32/32 [==============================] - 1s 36ms/step - loss: 0.0218 - categorical_accuracy: 0.9940\n",
            "Epoch 29/30\n",
            "32/32 [==============================] - 2s 54ms/step - loss: 0.0172 - categorical_accuracy: 0.9970\n",
            "Epoch 30/30\n",
            "32/32 [==============================] - 2s 53ms/step - loss: 0.0075 - categorical_accuracy: 0.9990\n",
            "Validation accuracy: 0.964\n",
            "Epoch 1/30\n",
            "32/32 [==============================] - 2s 31ms/step - loss: 3.3153 - categorical_accuracy: 0.4237\n",
            "Epoch 2/30\n",
            "32/32 [==============================] - 1s 30ms/step - loss: 0.9660 - categorical_accuracy: 0.6225\n",
            "Epoch 3/30\n",
            "32/32 [==============================] - 1s 30ms/step - loss: 0.7790 - categorical_accuracy: 0.7741\n",
            "Epoch 4/30\n",
            "32/32 [==============================] - 1s 30ms/step - loss: 0.6525 - categorical_accuracy: 0.8454\n",
            "Epoch 5/30\n",
            "32/32 [==============================] - 1s 30ms/step - loss: 0.5502 - categorical_accuracy: 0.9006\n",
            "Epoch 6/30\n",
            "32/32 [==============================] - 1s 30ms/step - loss: 0.4824 - categorical_accuracy: 0.9337\n",
            "Epoch 7/30\n",
            "32/32 [==============================] - 1s 31ms/step - loss: 0.4304 - categorical_accuracy: 0.9618\n",
            "Epoch 8/30\n",
            "32/32 [==============================] - 1s 30ms/step - loss: 0.3940 - categorical_accuracy: 0.9659\n",
            "Epoch 9/30\n",
            "32/32 [==============================] - 1s 30ms/step - loss: 0.3753 - categorical_accuracy: 0.9679\n",
            "Epoch 10/30\n",
            "32/32 [==============================] - 2s 48ms/step - loss: 0.3522 - categorical_accuracy: 0.9749\n",
            "Epoch 11/30\n",
            "32/32 [==============================] - 2s 53ms/step - loss: 0.3483 - categorical_accuracy: 0.9719\n",
            "Epoch 12/30\n",
            "32/32 [==============================] - 2s 52ms/step - loss: 0.3364 - categorical_accuracy: 0.9729\n",
            "Epoch 13/30\n",
            "32/32 [==============================] - 1s 30ms/step - loss: 0.3098 - categorical_accuracy: 0.9799\n",
            "Epoch 14/30\n",
            "32/32 [==============================] - 1s 31ms/step - loss: 0.2997 - categorical_accuracy: 0.9769\n",
            "Epoch 15/30\n",
            "32/32 [==============================] - 1s 31ms/step - loss: 0.2764 - categorical_accuracy: 0.9839\n",
            "Epoch 16/30\n",
            "32/32 [==============================] - 1s 30ms/step - loss: 0.2636 - categorical_accuracy: 0.9890\n",
            "Epoch 17/30\n",
            "32/32 [==============================] - 1s 30ms/step - loss: 0.2526 - categorical_accuracy: 0.9859\n",
            "Epoch 18/30\n",
            "32/32 [==============================] - 1s 30ms/step - loss: 0.2398 - categorical_accuracy: 0.9900\n",
            "Epoch 19/30\n",
            "32/32 [==============================] - 1s 31ms/step - loss: 0.2303 - categorical_accuracy: 0.9910\n",
            "Epoch 20/30\n",
            "32/32 [==============================] - 1s 30ms/step - loss: 0.2213 - categorical_accuracy: 0.9910\n",
            "Epoch 21/30\n",
            "32/32 [==============================] - 1s 31ms/step - loss: 0.2137 - categorical_accuracy: 0.9920\n",
            "Epoch 22/30\n",
            "32/32 [==============================] - 1s 31ms/step - loss: 0.2045 - categorical_accuracy: 0.9930\n",
            "Epoch 23/30\n",
            "32/32 [==============================] - 1s 46ms/step - loss: 0.2013 - categorical_accuracy: 0.9910\n",
            "Epoch 24/30\n",
            "32/32 [==============================] - 2s 54ms/step - loss: 0.1972 - categorical_accuracy: 0.9920\n",
            "Epoch 25/30\n",
            "32/32 [==============================] - 2s 54ms/step - loss: 0.1868 - categorical_accuracy: 0.9930\n",
            "Epoch 26/30\n",
            "32/32 [==============================] - 1s 34ms/step - loss: 0.1776 - categorical_accuracy: 0.9930\n",
            "Epoch 27/30\n",
            "32/32 [==============================] - 1s 30ms/step - loss: 0.1756 - categorical_accuracy: 0.9920\n",
            "Epoch 28/30\n",
            "32/32 [==============================] - 1s 30ms/step - loss: 0.1661 - categorical_accuracy: 0.9920\n",
            "Epoch 29/30\n",
            "32/32 [==============================] - 1s 30ms/step - loss: 0.2052 - categorical_accuracy: 0.9769\n",
            "Epoch 30/30\n",
            "32/32 [==============================] - 1s 31ms/step - loss: 0.3618 - categorical_accuracy: 0.9317\n",
            "Validation accuracy: 0.932\n",
            "Epoch 1/30\n",
            "32/32 [==============================] - 2s 30ms/step - loss: 1.5542 - categorical_accuracy: 0.4227\n",
            "Epoch 2/30\n",
            "32/32 [==============================] - 1s 30ms/step - loss: 0.7779 - categorical_accuracy: 0.6536\n",
            "Epoch 3/30\n",
            "32/32 [==============================] - 1s 30ms/step - loss: 0.7400 - categorical_accuracy: 0.6888\n",
            "Epoch 4/30\n",
            "32/32 [==============================] - 1s 31ms/step - loss: 0.7141 - categorical_accuracy: 0.6867\n",
            "Epoch 5/30\n",
            "32/32 [==============================] - 2s 54ms/step - loss: 0.6919 - categorical_accuracy: 0.6948\n",
            "Epoch 6/30\n",
            "32/32 [==============================] - 2s 54ms/step - loss: 0.6580 - categorical_accuracy: 0.7189\n",
            "Epoch 7/30\n",
            "32/32 [==============================] - 2s 47ms/step - loss: 0.6391 - categorical_accuracy: 0.7490\n",
            "Epoch 8/30\n",
            "32/32 [==============================] - 1s 31ms/step - loss: 0.5996 - categorical_accuracy: 0.7520\n",
            "Epoch 9/30\n",
            "32/32 [==============================] - 1s 30ms/step - loss: 0.5726 - categorical_accuracy: 0.7781\n",
            "Epoch 10/30\n",
            "32/32 [==============================] - 1s 30ms/step - loss: 0.5538 - categorical_accuracy: 0.7882\n",
            "Epoch 11/30\n",
            "32/32 [==============================] - 1s 30ms/step - loss: 0.4891 - categorical_accuracy: 0.7530\n",
            "Epoch 12/30\n",
            "32/32 [==============================] - 1s 31ms/step - loss: 0.4074 - categorical_accuracy: 0.7942\n",
            "Epoch 13/30\n",
            "32/32 [==============================] - 1s 30ms/step - loss: 0.3749 - categorical_accuracy: 0.7952\n",
            "Epoch 14/30\n",
            "32/32 [==============================] - 1s 31ms/step - loss: 0.3447 - categorical_accuracy: 0.8072\n",
            "Epoch 15/30\n",
            "32/32 [==============================] - 1s 31ms/step - loss: 0.3313 - categorical_accuracy: 0.8193\n",
            "Epoch 16/30\n",
            "32/32 [==============================] - 1s 31ms/step - loss: 0.3161 - categorical_accuracy: 0.8213\n",
            "Epoch 17/30\n",
            "32/32 [==============================] - 1s 34ms/step - loss: 0.3030 - categorical_accuracy: 0.8363\n",
            "Epoch 18/30\n",
            "32/32 [==============================] - 2s 55ms/step - loss: 0.2870 - categorical_accuracy: 0.8293\n",
            "Epoch 19/30\n",
            "32/32 [==============================] - 2s 54ms/step - loss: 0.2784 - categorical_accuracy: 0.8293\n",
            "Epoch 20/30\n",
            "32/32 [==============================] - 1s 46ms/step - loss: 0.2568 - categorical_accuracy: 0.8584\n",
            "Epoch 21/30\n",
            "32/32 [==============================] - 1s 30ms/step - loss: 0.2465 - categorical_accuracy: 0.8735\n",
            "Epoch 22/30\n",
            "32/32 [==============================] - 1s 31ms/step - loss: 0.2148 - categorical_accuracy: 0.9066\n",
            "Epoch 23/30\n",
            "32/32 [==============================] - 1s 30ms/step - loss: 0.2024 - categorical_accuracy: 0.9076\n",
            "Epoch 24/30\n",
            "32/32 [==============================] - 1s 31ms/step - loss: 0.2192 - categorical_accuracy: 0.8966\n",
            "Epoch 25/30\n",
            "32/32 [==============================] - 1s 31ms/step - loss: 0.2216 - categorical_accuracy: 0.9006\n",
            "Epoch 26/30\n",
            "32/32 [==============================] - 1s 31ms/step - loss: 0.1756 - categorical_accuracy: 0.9197\n",
            "Epoch 27/30\n",
            "32/32 [==============================] - 1s 30ms/step - loss: 0.1782 - categorical_accuracy: 0.9287\n",
            "Epoch 28/30\n",
            "32/32 [==============================] - 1s 31ms/step - loss: 0.1667 - categorical_accuracy: 0.9438\n",
            "Epoch 29/30\n",
            "32/32 [==============================] - 1s 31ms/step - loss: 0.1753 - categorical_accuracy: 0.9367\n",
            "Epoch 30/30\n",
            "32/32 [==============================] - 1s 35ms/step - loss: 0.2107 - categorical_accuracy: 0.9147\n",
            "Validation accuracy: 0.880\n"
          ]
        }
      ]
    },
    {
      "cell_type": "code",
      "source": [
        "model.save('Downloads')\n",
        "# Convert the model to the TensorFlow Lite format without quantization\n",
        "converter = tf.lite.TFLiteConverter.from_saved_model('Downloads')\n",
        "converter.target_spec.supported_ops = [\n",
        "  tf.lite.OpsSet.TFLITE_BUILTINS, # enable TensorFlow Lite ops.\n",
        "  tf.lite.OpsSet.SELECT_TF_OPS # enable TensorFlow ops.\n",
        "]\n",
        "model_no_quant_tflite = converter.convert()\n",
        "\n",
        "# Save the model to disk\n",
        "open('model.tflite', \"wb\").write(model_no_quant_tflite)"
      ],
      "metadata": {
        "colab": {
          "base_uri": "https://localhost:8080/"
        },
        "id": "xZZSNwIY8dZo",
        "outputId": "18885cdf-b94f-4511-e746-7e7f136a70d5"
      },
      "execution_count": 83,
      "outputs": [
        {
          "output_type": "stream",
          "name": "stderr",
          "text": [
            "WARNING:absl:Found untraced functions such as _jit_compiled_convolution_op, _jit_compiled_convolution_op, _jit_compiled_convolution_op, _update_step_xla while saving (showing 4 of 4). These functions will not be directly callable after loading.\n"
          ]
        },
        {
          "output_type": "execute_result",
          "data": {
            "text/plain": [
              "292124"
            ]
          },
          "metadata": {},
          "execution_count": 83
        }
      ]
    },
    {
      "cell_type": "code",
      "source": [
        "# # Prepare the test data\n",
        "# Initialize the TFLite interpreter\n",
        "# filename = 'BlinkingCNN.tflite'\n",
        "# interpreter = tf.lite.Interpreter(model_path=filename)\n",
        "interpreter = tf.lite.Interpreter(model_content=model_no_quant_tflite)\n",
        "\n",
        "input_details = interpreter.get_input_details()\n",
        "output_details = interpreter.get_output_details()\n",
        "interpreter.allocate_tensors()\n",
        "# Invoke the interpreter\n",
        "\n",
        "X_test = np.float32(Eye_Directions_Data)\n",
        "X_test = np.transpose(X_test, (0, 2, 1))\n",
        "y_pred = np.empty(len(X_test), dtype=object)\n",
        "for i in range(len(X_test)):\n",
        "  interpreter.set_tensor(input_details[0][\"index\"], [X_test[i]])\n",
        "  interpreter.invoke()\n",
        "  y_pred[i] = interpreter.get_tensor(output_details[0][\"index\"])\n"
      ],
      "metadata": {
        "id": "SpbyCNVJ9Nhl"
      },
      "execution_count": 84,
      "outputs": []
    },
    {
      "cell_type": "code",
      "source": [
        "y_pred = np.array(y_pred)"
      ],
      "metadata": {
        "id": "AN_3MYZl210r"
      },
      "execution_count": 85,
      "outputs": []
    },
    {
      "cell_type": "code",
      "source": [
        "print(y_pred)"
      ],
      "metadata": {
        "colab": {
          "base_uri": "https://localhost:8080/"
        },
        "id": "hHujGg0Z3NCL",
        "outputId": "ac5f6305-1278-4210-ab32-a2257bc977e7"
      },
      "execution_count": 86,
      "outputs": [
        {
          "output_type": "stream",
          "name": "stdout",
          "text": [
            "[array([[2.5687456e-01, 1.5718862e-05, 7.4310976e-01]], dtype=float32)\n",
            " array([[4.4106550e-09, 1.0000000e+00, 2.4239641e-08]], dtype=float32)\n",
            " array([[9.4361138e-01, 3.6413388e-13, 5.6388587e-02]], dtype=float32) ...\n",
            " array([[5.9480131e-01, 1.4052409e-09, 4.0519863e-01]], dtype=float32)\n",
            " array([[9.1032257e-09, 1.0000000e+00, 4.8727102e-08]], dtype=float32)\n",
            " array([[8.5729024e-09, 9.9999988e-01, 5.8744046e-08]], dtype=float32)]\n"
          ]
        }
      ]
    },
    {
      "cell_type": "code",
      "source": [
        "ypred = [0 for _ in range(len(Eye_Directions_Labels))]\n",
        "for i in range(len(Eye_Directions_Labels)):\n",
        "  ypred[i] = y_pred[i][0].argmax()\n"
      ],
      "metadata": {
        "id": "pBLh9L7X1QMz"
      },
      "execution_count": 87,
      "outputs": []
    },
    {
      "cell_type": "code",
      "source": [
        "# for i in range(len(y_pred)):\n",
        "#   print(np.shape(y_pred[i]))\n",
        "\n",
        "z = len(y_pred)\n",
        "Range = np.linspace(0, 1276, z)\n",
        "sns.relplot(x=Range, y=ypred, hue=Eye_Directions_Labels)"
      ],
      "metadata": {
        "colab": {
          "base_uri": "https://localhost:8080/",
          "height": 504
        },
        "id": "9QiO_AYR-szD",
        "outputId": "bef0fe8d-2896-4391-8bf2-799c940af66d"
      },
      "execution_count": 88,
      "outputs": [
        {
          "output_type": "execute_result",
          "data": {
            "text/plain": [
              "<seaborn.axisgrid.FacetGrid at 0x7f9550ac9ea0>"
            ]
          },
          "metadata": {},
          "execution_count": 88
        },
        {
          "output_type": "display_data",
          "data": {
            "text/plain": [
              "<Figure size 558.875x500 with 1 Axes>"
            ],
            "image/png": "[encoded data removed]"
          },
          "metadata": {}
        }
      ]
    },
    {
      "cell_type": "code",
      "source": [
        "confusion_matrix = metrics.confusion_matrix(Eye_Directions_Labels, ypred)\n",
        "\n",
        "cm_display = metrics.ConfusionMatrixDisplay(confusion_matrix = confusion_matrix, display_labels = ['Left', 'Center', 'Right'])\n",
        "\n",
        "cm_display.plot()\n",
        "plt.show()"
      ],
      "metadata": {
        "colab": {
          "base_uri": "https://localhost:8080/",
          "height": 449
        },
        "id": "87owL5Zr4rT2",
        "outputId": "93a7d08f-1051-47af-8bbe-b345c7525e1d"
      },
      "execution_count": 89,
      "outputs": [
        {
          "output_type": "display_data",
          "data": {
            "text/plain": [
              "<Figure size 640x480 with 2 Axes>"
            ],
            "image/png": "[encoded data removed]"
          },
          "metadata": {}
        }
      ]
    },
    {
      "cell_type": "code",
      "source": [
        "# Righttt = pd.read_csv('gdrive/MyDrive/Left_Right_CNN_Data/hamza/Right_hamza.csv')\n",
        "\n",
        "# Righttt = Righttt.drop(['timestamps','Right AUX'], axis = 1, errors='ignore')\n",
        "# Righttt = np.array(Righttt)\n",
        "# Righttt = np.transpose(Righttt)\n",
        "\n",
        "# windows_Right_Data = get_windows(Righttt, 480, 128)\n",
        "\n",
        "# labels = [2 for _ in range(windows_Right_Data.shape[0])]\n",
        "\n",
        "# windows_Right_Data = np.array(windows_Right_Data)\n",
        "# labels = np.array(labels)\n",
        "\n",
        "# windows_Right_Data = time_to_freq_domain(windows_Right_Data)\n",
        "# windows_Right_Data = np.array(windows_Right_Data)\n",
        "\n",
        "# X_test = np.float32(windows_Right_Data)\n",
        "# X_test = np.transpose(X_test, (0, 2, 1))\n",
        "# y_pred = np.empty(len(X_test), dtype=object)\n",
        "# for i in range(len(X_test)):\n",
        "#   interpreter.set_tensor(input_details[0][\"index\"], [X_test[i]])\n",
        "#   interpreter.invoke()\n",
        "#   y_pred[i] = interpreter.get_tensor(output_details[0][\"index\"])"
      ],
      "metadata": {
        "id": "PEfRRPuof-Hk"
      },
      "execution_count": null,
      "outputs": []
    }
  ]
}