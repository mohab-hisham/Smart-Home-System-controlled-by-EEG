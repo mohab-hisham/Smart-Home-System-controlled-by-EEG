{
  "nbformat": 4,
  "nbformat_minor": 0,
  "metadata": {
    "colab": {
      "provenance": []
    },
    "kernelspec": {
      "name": "python3",
      "display_name": "Python 3"
    },
    "language_info": {
      "name": "python"
    }
  },
  "cells": [
    {
      "cell_type": "code",
      "execution_count": 1,
      "metadata": {
        "id": "68hJU98xDKSs"
      },
      "outputs": [],
      "source": [
        "import os\n",
        "import numpy as np\n",
        "from scipy.signal import *\n",
        "from scipy.fft import fft\n",
        "import matplotlib\n",
        "import matplotlib.pyplot as plt\n",
        "import csv\n",
        "import pandas as pd\n",
        "from sklearn.model_selection import train_test_split\n",
        "from keras.models import Sequential\n",
        "from keras.utils import to_categorical\n",
        "import keras.layers as layers\n",
        "from keras.optimizers import SGD\n",
        "from keras.initializers import random_uniform\n",
        "from keras.callbacks import EarlyStopping\n",
        "from google.colab import drive\n",
        "import random\n",
        "import seaborn as sns\n",
        "import tensorflow as tf\n",
        "from sklearn.model_selection import StratifiedKFold\n",
        "from sklearn import metrics"
      ]
    },
    {
      "cell_type": "code",
      "source": [
        "drive.mount('/content/gdrive')\n",
        "data_path_mohab = 'gdrive/MyDrive/Left_Right_CNN_Data/mohab/'\n",
        "data_path_mansour = 'gdrive/MyDrive/Left_Right_CNN_Data/mansour/'\n",
        "data_path_hamza = 'gdrive/MyDrive/Left_Right_CNN_Data/hamza/'\n",
        "data_path_moaaz = 'gdrive/MyDrive/Left_Right_CNN_Data/moaaz/'\n",
        "data_path_unknown = 'gdrive/MyDrive/Left_Right_CNN_Data/Subject_Unknown/'\n",
        "data_pathes = [data_path_mohab, data_path_mansour, data_path_hamza,\n",
        "               data_path_moaaz, data_path_unknown]\n",
        "fs = 256"
      ],
      "metadata": {
        "id": "uiV0L4CNDZvM",
        "colab": {
          "base_uri": "https://localhost:8080/"
        },
        "outputId": "eed7ae20-1c08-43e7-863e-312bb8ba24f9"
      },
      "execution_count": 13,
      "outputs": [
        {
          "output_type": "stream",
          "name": "stdout",
          "text": [
            "Drive already mounted at /content/gdrive; to attempt to forcibly remount, call drive.mount(\"/content/gdrive\", force_remount=True).\n"
          ]
        }
      ]
    },
    {
      "cell_type": "code",
      "source": [
        "def get_signals(data_path):\n",
        "\n",
        "    cwd = os.path.abspath(data_path)\n",
        "    files = [f for f in os.listdir(cwd) if os.path.isfile(os.path.join(cwd, f))]\n",
        "    ## Method 1 gets the first sheet of a given file\n",
        "    Left_Data = pd.DataFrame()\n",
        "    Center_Data = pd.DataFrame()\n",
        "    Right_Data = pd.DataFrame()\n",
        "    for file in files:\n",
        "        if file.endswith('.csv'):\n",
        "          if file.startswith('Left'):\n",
        "            Left = pd.read_csv(data_path+file)\n",
        "            Left_Data = pd.concat([Left_Data, Left], ignore_index=True)\n",
        "          elif file.startswith('Right'):\n",
        "            Right = pd.read_csv(data_path+file)\n",
        "            Right_Data = pd.concat([Right_Data, Right], ignore_index=True)\n",
        "          else :\n",
        "            Center = pd.read_csv(data_path+file)\n",
        "            Center_Data = pd.concat([Center_Data, Center], ignore_index=True)\n",
        "\n",
        "    return Left_Data, Center_Data, Right_Data"
      ],
      "metadata": {
        "id": "p4unPtBea0Pi"
      },
      "execution_count": 28,
      "outputs": []
    },
    {
      "cell_type": "code",
      "source": [
        "def get_windows(signal, window_size, window_stride):\n",
        "\n",
        "    windows = []\n",
        "    # windows_times = []\n",
        "    window_features = []\n",
        "    # if len(signal[0]) == len(time):\n",
        "    for j in range(0, len(signal[0])-window_size, window_stride):\n",
        "        # window_time = time[j:j+window_size]\n",
        "        # windows_times.append(window_time)\n",
        "\n",
        "        for i in range(len(signal)):\n",
        "            window_feature = signal[i][j:j+window_size]\n",
        "            window_features.append(window_feature)\n",
        "        windows.append(window_features)\n",
        "        window_features = []\n",
        "    windows = np.array(windows)\n",
        "    # windows_times = np.array(windows_times)\n",
        "    return windows"
      ],
      "metadata": {
        "id": "RIaSLXwABvCb"
      },
      "execution_count": 4,
      "outputs": []
    },
    {
      "cell_type": "code",
      "source": [
        "def get_labels(Left_Data, Center_Data, Right_Data):\n",
        "    return ([0 for _ in range(Left_Data.shape[0])],\n",
        "    [1 for _ in range(Center_Data.shape[0])],\n",
        "    [2 for _ in range(Right_Data.shape[0])])\n"
      ],
      "metadata": {
        "id": "e11hzHcYB7cQ"
      },
      "execution_count": 5,
      "outputs": []
    },
    {
      "cell_type": "code",
      "source": [
        "def cocatenate_and_randomize(Windows_Left_Data, Windows_Left_Labels, Windows_Center_Data, Windows_Center_Labels, Windows_Right_Data, Windows_Right_Labels):\n",
        "    random.seed(4)\n",
        "    Directions = np.concatenate((Windows_Left_Data, Windows_Center_Data, Windows_Right_Data), axis=0)\n",
        "    Directions_Labels = np.concatenate((Windows_Left_Labels, Windows_Center_Labels, Windows_Right_Labels), axis=0)\n",
        "    temp = list(zip(Directions, Directions_Labels))\n",
        "    random.shuffle(temp)\n",
        "\n",
        "    Directions_Randomized, Directions_Labels_Randomized = zip(*temp)\n",
        "    # blinkingWithNoise_randomized and blinkingWithNoise_labels_randomized come out as tuples, and so must be converted to lists.\n",
        "    return list(Directions_Randomized), list(Directions_Labels_Randomized)"
      ],
      "metadata": {
        "id": "hLbMWvfhCtUz"
      },
      "execution_count": 6,
      "outputs": []
    },
    {
      "cell_type": "code",
      "source": [
        "def create_dataset_without_filter(data_pathes):\n",
        "\n",
        "    # inputs:\n",
        "    # outputs:\n",
        "    Left_Data = pd.DataFrame()\n",
        "    Center_Data = pd.DataFrame()\n",
        "    Right_Data = pd.DataFrame()\n",
        "\n",
        "    X = []\n",
        "    Y = []\n",
        "    Wt = []\n",
        "    i = 0\n",
        "    # signal_files, label_files = get_files(data_path)\n",
        "\n",
        "    # for i in range(len(signal_files)):\n",
        "    # file_idx = i\n",
        "    for data_path in data_pathes:\n",
        "      Left_Data_File, Center_Data_File, Right_Data_File = get_signals(data_path)\n",
        "      Left_Data = pd.concat([Left_Data, Left_Data_File], axis=0)\n",
        "      Center_Data = pd.concat([Center_Data, Center_Data_File], axis=0)\n",
        "      Right_Data = pd.concat([Right_Data, Right_Data_File], axis=0)\n",
        "    Left_Data = Left_Data.drop(['timestamps','Right AUX'], axis = 1, errors='ignore')\n",
        "    Center_Data = Center_Data.drop(['timestamps','Right AUX'], axis = 1, errors='ignore')\n",
        "    Right_Data = Right_Data.drop(['timestamps','Right AUX'], axis = 1, errors='ignore')\n",
        "    Center_Data = Center_Data.dropna()\n",
        "    # interval_corrupt, blinks = get_blinks(label_files, data_path, file_idx, signals)\n",
        "    # time = signals[:,0]\n",
        "    # signal = signals[:,1:3]\n",
        "    # filtered_signal_blinks = butter_filter(blinks, fs, fc_low, 'high')\n",
        "    # filtered_signal_noBlinks = butter_filter(noBlinks, fs, fc_low, 'high')\n",
        "    #filtered_signal = butter_filter(filtered_signal, fs, fc = fc_low)\n",
        "    Left_Data = np.array(Left_Data)\n",
        "    Center_Data = np.array(Center_Data)\n",
        "    Right_Data = np.array(Right_Data)\n",
        "    Left_Data = np.transpose(Left_Data)\n",
        "    Center_Data = np.transpose(Center_Data)\n",
        "    Right_Data = np.transpose(Right_Data)\n",
        "\n",
        "    windows_Left_Data = get_windows(Left_Data, 480, 128)\n",
        "    windows_Center_Data = get_windows(Center_Data, 480, 128)\n",
        "    windows_Right_Data = get_windows(Right_Data, 480, 128)\n",
        "    # while i < len(windows_blinks):\n",
        "    #   if np.max(abs(windows_blinks[i])) < 200 :\n",
        "    #     # plt.plot(np.reshape(windows_blinks[i], [200,4]))\n",
        "    #     windows_blinks = np.delete(windows_blinks, i, axis=0)\n",
        "    #     i -= 1\n",
        "    #     # print(j)\n",
        "    #     # plt.show()\n",
        "    #   i += 1\n",
        "\n",
        "    # cleaned_windows, cleaned_windows_times = clean_windows(windows, windows_times, interval_corrupt)\n",
        "    Left_Labels, Center_Labels, Right_Labels = get_labels(windows_Left_Data, windows_Center_Data, windows_Right_Data)\n",
        "\n",
        "    # for j in range(len(windows)):\n",
        "    #     X.append(windows[j])\n",
        "    #     Y.append(labels[j])\n",
        "    #     Wt.append(windows_times[j])\n",
        "\n",
        "    #     X = np.array(X)\n",
        "    #     Y = np.array(Y)\n",
        "    #     Wt = np.array(Wt)\n",
        "\n",
        "    Eye_Directions_Data, Eye_Directions_Labels = cocatenate_and_randomize(windows_Left_Data, Left_Labels, windows_Center_Data, Center_Labels, windows_Right_Data, Right_Labels)\n",
        "\n",
        "    return np.array(Eye_Directions_Data), np.array(Eye_Directions_Labels)"
      ],
      "metadata": {
        "id": "di8ioEeDFkYG"
      },
      "execution_count": 32,
      "outputs": []
    },
    {
      "cell_type": "code",
      "source": [
        "Eye_Directions_Data, Eye_Directions_Labels = create_dataset_without_filter(data_pathes)"
      ],
      "metadata": {
        "id": "B1xiscMlI6FX"
      },
      "execution_count": 33,
      "outputs": []
    },
    {
      "cell_type": "code",
      "source": [
        "print(Eye_Directions_Data.shape)"
      ],
      "metadata": {
        "colab": {
          "base_uri": "https://localhost:8080/"
        },
        "id": "IL0YHtYUM5FW",
        "outputId": "a62e08f4-5901-4850-c0c6-4bafe999e9ce"
      },
      "execution_count": 34,
      "outputs": [
        {
          "output_type": "stream",
          "name": "stdout",
          "text": [
            "(1641, 4, 480)\n"
          ]
        }
      ]
    },
    {
      "cell_type": "code",
      "source": [
        "freq_domain_sample_rate = fs/2\n",
        "\n",
        "ranges = [(0, 4), (4, 8), (9, 13), (14, 30), (30, 100)]\n",
        "\n",
        "def time_to_freq_domain(directions):\n",
        "    freq_domain_data = []\n",
        "    freq_domain_data_window = []\n",
        "    for i in range(directions.shape[0]):\n",
        "      for j in range(directions.shape[1]):\n",
        "        F,PSD = welch(directions[i, j], freq_domain_sample_rate, nperseg=directions.shape[2])\n",
        "        data = [PSD[(F >= lower) & (F <= upper)] for lower, upper in ranges]\n",
        "\n",
        "        for k in range(len(data)):\n",
        "          data[k] = np.pad(data[k], (0, len(data[4])-len(data[k])), mode='constant')\n",
        "        freq_domain_data_window = np.vstack([freq_domain_data_window, data]) if len(freq_domain_data_window) else data\n",
        "      freq_domain_data.append(freq_domain_data_window)\n",
        "      freq_domain_data_window = []\n",
        "    return freq_domain_data"
      ],
      "metadata": {
        "id": "zlYdqwdZNODN"
      },
      "execution_count": 35,
      "outputs": []
    },
    {
      "cell_type": "code",
      "source": [
        "Eye_Directions_freq_domain_data = time_to_freq_domain(Eye_Directions_Data)\n",
        "Eye_Directions_freq_domain_data = np.array(Eye_Directions_freq_domain_data)"
      ],
      "metadata": {
        "id": "2dlaQNwAQ_FQ"
      },
      "execution_count": 36,
      "outputs": []
    },
    {
      "cell_type": "code",
      "source": [
        "print(Eye_Directions_freq_domain_data.shape)"
      ],
      "metadata": {
        "colab": {
          "base_uri": "https://localhost:8080/"
        },
        "id": "soem5sqR3MsO",
        "outputId": "d974f036-9228-4399-e900-7ee8e85182fe"
      },
      "execution_count": 37,
      "outputs": [
        {
          "output_type": "stream",
          "name": "stdout",
          "text": [
            "(1641, 20, 128)\n"
          ]
        }
      ]
    },
    {
      "cell_type": "code",
      "source": [
        "# early_stopping = EarlyStopping(\n",
        "#     min_delta=0.001, # minimium amount of change to count as an improvement\n",
        "#     patience=20, # how many epochs to wait before stopping\n",
        "#     restore_best_weights=True,\n",
        "# )"
      ],
      "metadata": {
        "id": "n5ZAsUe90Dz0"
      },
      "execution_count": null,
      "outputs": []
    },
    {
      "cell_type": "code",
      "source": [
        "def create_model(X_train):\n",
        "  model = Sequential([\n",
        "\n",
        "      # first convolution block\n",
        "      layers.Conv1D(filters=32, kernel_size=5, activation='relu', input_shape = X_train[0].shape),\n",
        "      layers.MaxPool1D(),\n",
        "\n",
        "      # second convolution block\n",
        "      layers.Conv1D(filters=64, kernel_size=3, activation='relu'),\n",
        "      layers.MaxPool1D(),\n",
        "\n",
        "      # third convolution block\n",
        "      layers.Conv1D(filters=64, kernel_size=1, activation='relu'),\n",
        "      layers.MaxPool1D(),\n",
        "\n",
        "      # classifier head\n",
        "      layers.Flatten(),\n",
        "      layers.Dense(16, activation='relu', input_shape = (512,)),\n",
        "      layers.Dense(3, activation='softmax'),\n",
        "  ])\n",
        "  model.compile(\n",
        "    optimizer='adam',\n",
        "    loss='categorical_crossentropy',\n",
        "    metrics=['categorical_accuracy'],\n",
        "  )\n",
        "  return model"
      ],
      "metadata": {
        "id": "48d7ZS_G0f6t"
      },
      "execution_count": 38,
      "outputs": []
    },
    {
      "cell_type": "code",
      "source": [
        "# Define the number of cross-validation folds\n",
        "n_folds = 5\n",
        "\n",
        "# Define the cross-validation iterator\n",
        "cv = StratifiedKFold(n_splits=n_folds, shuffle=True, random_state=42)\n",
        "\n",
        "# Perform cross-validation\n",
        "for train_index, val_index in cv.split(Eye_Directions_freq_domain_data, Eye_Directions_Labels):\n",
        "    # Split the data into training and validation sets\n",
        "    X_train, X_val = Eye_Directions_freq_domain_data[train_index], Eye_Directions_freq_domain_data[val_index]\n",
        "    Y_train, Y_val = Eye_Directions_Labels[train_index], Eye_Directions_Labels[val_index]\n",
        "    X_train = np.transpose(X_train, (0, 2, 1))\n",
        "    X_val = np.transpose(X_val, (0, 2, 1))\n",
        "\n",
        "    #create model\n",
        "    model = create_model(X_train)\n",
        "\n",
        "    # Fit the model on the training data\n",
        "    Y_train = to_categorical(Y_train,num_classes=3)\n",
        "    Y_val = to_categorical(Y_val,num_classes=3)\n",
        "    history = model.fit(\n",
        "    X_train,\n",
        "    Y_train,\n",
        "    epochs = 30,\n",
        "    batch_size = 32\n",
        "    )\n",
        "\n",
        "    # Evaluate the model on the validation data\n",
        "    loss, acc = model.evaluate(X_val, Y_val, verbose = 0)\n",
        "\n",
        "    # Print the validation accuracy for this fold\n",
        "    print('Validation accuracy: %.3f' % acc)\n",
        "\n",
        "# history = model.fit(\n",
        "#     X_train,\n",
        "#     Y_train,\n",
        "#     validation_data = (X_val, Y_val),\n",
        "#     epochs = 200,\n",
        "#     batch_size = 32,\n",
        "#     callbacks = [early_stopping]\n",
        "# )"
      ],
      "metadata": {
        "colab": {
          "base_uri": "https://localhost:8080/"
        },
        "id": "VED0MFxf1mq4",
        "outputId": "dbe67ba4-3dc3-42e8-88c0-17c439b61a7e"
      },
      "execution_count": 39,
      "outputs": [
        {
          "output_type": "stream",
          "name": "stdout",
          "text": [
            "Epoch 1/30\n",
            "41/41 [==============================] - 2s 14ms/step - loss: 7.5129 - categorical_accuracy: 0.7027\n",
            "Epoch 2/30\n",
            "41/41 [==============================] - 1s 15ms/step - loss: 1.9545 - categorical_accuracy: 0.7988\n",
            "Epoch 3/30\n",
            "41/41 [==============================] - 1s 15ms/step - loss: 1.3558 - categorical_accuracy: 0.8369\n",
            "Epoch 4/30\n",
            "41/41 [==============================] - 1s 23ms/step - loss: 0.6235 - categorical_accuracy: 0.8659\n",
            "Epoch 5/30\n",
            "41/41 [==============================] - 1s 23ms/step - loss: 1.1405 - categorical_accuracy: 0.8742\n",
            "Epoch 6/30\n",
            "41/41 [==============================] - 1s 23ms/step - loss: 0.4532 - categorical_accuracy: 0.9002\n",
            "Epoch 7/30\n",
            "41/41 [==============================] - 1s 22ms/step - loss: 1.1046 - categorical_accuracy: 0.8590\n",
            "Epoch 8/30\n",
            "41/41 [==============================] - 1s 23ms/step - loss: 0.6791 - categorical_accuracy: 0.9024\n",
            "Epoch 9/30\n",
            "41/41 [==============================] - 1s 16ms/step - loss: 0.3341 - categorical_accuracy: 0.9139\n",
            "Epoch 10/30\n",
            "41/41 [==============================] - 1s 14ms/step - loss: 0.2726 - categorical_accuracy: 0.9123\n",
            "Epoch 11/30\n",
            "41/41 [==============================] - 1s 13ms/step - loss: 0.1863 - categorical_accuracy: 0.9322\n",
            "Epoch 12/30\n",
            "41/41 [==============================] - 1s 14ms/step - loss: 0.2405 - categorical_accuracy: 0.9474\n",
            "Epoch 13/30\n",
            "41/41 [==============================] - 1s 15ms/step - loss: 0.7783 - categorical_accuracy: 0.8811\n",
            "Epoch 14/30\n",
            "41/41 [==============================] - 1s 13ms/step - loss: 0.6941 - categorical_accuracy: 0.9017\n",
            "Epoch 15/30\n",
            "41/41 [==============================] - 1s 13ms/step - loss: 1.2311 - categorical_accuracy: 0.8826\n",
            "Epoch 16/30\n",
            "41/41 [==============================] - 1s 13ms/step - loss: 0.2442 - categorical_accuracy: 0.9169\n",
            "Epoch 17/30\n",
            "41/41 [==============================] - 1s 13ms/step - loss: 0.1577 - categorical_accuracy: 0.9451\n",
            "Epoch 18/30\n",
            "41/41 [==============================] - 1s 15ms/step - loss: 0.1168 - categorical_accuracy: 0.9634\n",
            "Epoch 19/30\n",
            "41/41 [==============================] - 1s 15ms/step - loss: 0.1213 - categorical_accuracy: 0.9611\n",
            "Epoch 20/30\n",
            "41/41 [==============================] - 1s 15ms/step - loss: 0.0846 - categorical_accuracy: 0.9748\n",
            "Epoch 21/30\n",
            "41/41 [==============================] - 1s 13ms/step - loss: 0.6044 - categorical_accuracy: 0.9383\n",
            "Epoch 22/30\n",
            "41/41 [==============================] - 1s 13ms/step - loss: 0.1719 - categorical_accuracy: 0.9573\n",
            "Epoch 23/30\n",
            "41/41 [==============================] - 1s 13ms/step - loss: 0.0991 - categorical_accuracy: 0.9695\n",
            "Epoch 24/30\n",
            "41/41 [==============================] - 1s 13ms/step - loss: 0.1281 - categorical_accuracy: 0.9581\n",
            "Epoch 25/30\n",
            "41/41 [==============================] - 1s 12ms/step - loss: 0.0811 - categorical_accuracy: 0.9756\n",
            "Epoch 26/30\n",
            "41/41 [==============================] - 1s 13ms/step - loss: 0.0542 - categorical_accuracy: 0.9848\n",
            "Epoch 27/30\n",
            "41/41 [==============================] - 1s 20ms/step - loss: 0.0487 - categorical_accuracy: 0.9878\n",
            "Epoch 28/30\n",
            "41/41 [==============================] - 1s 20ms/step - loss: 0.0407 - categorical_accuracy: 0.9931\n",
            "Epoch 29/30\n",
            "41/41 [==============================] - 1s 21ms/step - loss: 0.0362 - categorical_accuracy: 0.9939\n",
            "Epoch 30/30\n",
            "41/41 [==============================] - 1s 20ms/step - loss: 0.0299 - categorical_accuracy: 0.9977\n",
            "Validation accuracy: 0.894\n",
            "Epoch 1/30\n",
            "42/42 [==============================] - 2s 13ms/step - loss: 7.4324 - categorical_accuracy: 0.6664\n",
            "Epoch 2/30\n",
            "42/42 [==============================] - 1s 15ms/step - loss: 3.3851 - categorical_accuracy: 0.7601\n",
            "Epoch 3/30\n",
            "42/42 [==============================] - 1s 15ms/step - loss: 3.4797 - categorical_accuracy: 0.7578\n",
            "Epoch 4/30\n",
            "42/42 [==============================] - 1s 13ms/step - loss: 2.9867 - categorical_accuracy: 0.7959\n",
            "Epoch 5/30\n",
            "42/42 [==============================] - 1s 13ms/step - loss: 0.9574 - categorical_accuracy: 0.7982\n",
            "Epoch 6/30\n",
            "42/42 [==============================] - 1s 13ms/step - loss: 0.5629 - categorical_accuracy: 0.8416\n",
            "Epoch 7/30\n",
            "42/42 [==============================] - 1s 14ms/step - loss: 0.4322 - categorical_accuracy: 0.8804\n",
            "Epoch 8/30\n",
            "42/42 [==============================] - 1s 15ms/step - loss: 0.3455 - categorical_accuracy: 0.8842\n",
            "Epoch 9/30\n",
            "42/42 [==============================] - 1s 15ms/step - loss: 0.3155 - categorical_accuracy: 0.8911\n",
            "Epoch 10/30\n",
            "42/42 [==============================] - 1s 13ms/step - loss: 0.2384 - categorical_accuracy: 0.9124\n",
            "Epoch 11/30\n",
            "42/42 [==============================] - 1s 13ms/step - loss: 0.2026 - categorical_accuracy: 0.9200\n",
            "Epoch 12/30\n",
            "42/42 [==============================] - 1s 14ms/step - loss: 0.1884 - categorical_accuracy: 0.9208\n",
            "Epoch 13/30\n",
            "42/42 [==============================] - 1s 13ms/step - loss: 0.1736 - categorical_accuracy: 0.9353\n",
            "Epoch 14/30\n",
            "42/42 [==============================] - 1s 13ms/step - loss: 0.1790 - categorical_accuracy: 0.9353\n",
            "Epoch 15/30\n",
            "42/42 [==============================] - 1s 13ms/step - loss: 0.1371 - categorical_accuracy: 0.9444\n",
            "Epoch 16/30\n",
            "42/42 [==============================] - 1s 19ms/step - loss: 0.1318 - categorical_accuracy: 0.9528\n",
            "Epoch 17/30\n",
            "42/42 [==============================] - 1s 23ms/step - loss: 0.1386 - categorical_accuracy: 0.9505\n",
            "Epoch 18/30\n",
            "42/42 [==============================] - 1s 21ms/step - loss: 0.1400 - categorical_accuracy: 0.9474\n",
            "Epoch 19/30\n",
            "42/42 [==============================] - 1s 20ms/step - loss: 0.1098 - categorical_accuracy: 0.9642\n",
            "Epoch 20/30\n",
            "42/42 [==============================] - 1s 20ms/step - loss: 0.1117 - categorical_accuracy: 0.9589\n",
            "Epoch 21/30\n",
            "42/42 [==============================] - 1s 18ms/step - loss: 0.0998 - categorical_accuracy: 0.9634\n",
            "Epoch 22/30\n",
            "42/42 [==============================] - 1s 15ms/step - loss: 0.0861 - categorical_accuracy: 0.9695\n",
            "Epoch 23/30\n",
            "42/42 [==============================] - 1s 14ms/step - loss: 0.0767 - categorical_accuracy: 0.9802\n",
            "Epoch 24/30\n",
            "42/42 [==============================] - 1s 12ms/step - loss: 0.1017 - categorical_accuracy: 0.9680\n",
            "Epoch 25/30\n",
            "42/42 [==============================] - 1s 15ms/step - loss: 0.0834 - categorical_accuracy: 0.9673\n",
            "Epoch 26/30\n",
            "42/42 [==============================] - 1s 15ms/step - loss: 0.0614 - categorical_accuracy: 0.9832\n",
            "Epoch 27/30\n",
            "42/42 [==============================] - 1s 14ms/step - loss: 0.0547 - categorical_accuracy: 0.9901\n",
            "Epoch 28/30\n",
            "42/42 [==============================] - 1s 16ms/step - loss: 0.0587 - categorical_accuracy: 0.9825\n",
            "Epoch 29/30\n",
            "42/42 [==============================] - 1s 15ms/step - loss: 0.0452 - categorical_accuracy: 0.9924\n",
            "Epoch 30/30\n",
            "42/42 [==============================] - 1s 15ms/step - loss: 0.0433 - categorical_accuracy: 0.9924\n",
            "Validation accuracy: 0.899\n",
            "Epoch 1/30\n",
            "42/42 [==============================] - 2s 16ms/step - loss: 9.6235 - categorical_accuracy: 0.7167\n",
            "Epoch 2/30\n",
            "42/42 [==============================] - 1s 12ms/step - loss: 2.7792 - categorical_accuracy: 0.7761\n",
            "Epoch 3/30\n",
            "42/42 [==============================] - 1s 19ms/step - loss: 0.7176 - categorical_accuracy: 0.8355\n",
            "Epoch 4/30\n",
            "42/42 [==============================] - 1s 21ms/step - loss: 0.8999 - categorical_accuracy: 0.8203\n",
            "Epoch 5/30\n",
            "42/42 [==============================] - 1s 20ms/step - loss: 0.4246 - categorical_accuracy: 0.8865\n",
            "Epoch 6/30\n",
            "42/42 [==============================] - 1s 20ms/step - loss: 0.5624 - categorical_accuracy: 0.8522\n",
            "Epoch 7/30\n",
            "42/42 [==============================] - 1s 20ms/step - loss: 0.3854 - categorical_accuracy: 0.8888\n",
            "Epoch 8/30\n",
            "42/42 [==============================] - 1s 17ms/step - loss: 1.1032 - categorical_accuracy: 0.8393\n",
            "Epoch 9/30\n",
            "42/42 [==============================] - 1s 13ms/step - loss: 0.3402 - categorical_accuracy: 0.8911\n",
            "Epoch 10/30\n",
            "42/42 [==============================] - 1s 13ms/step - loss: 3.2986 - categorical_accuracy: 0.7997\n",
            "Epoch 11/30\n",
            "42/42 [==============================] - 1s 13ms/step - loss: 2.4478 - categorical_accuracy: 0.8180\n",
            "Epoch 12/30\n",
            "42/42 [==============================] - 1s 12ms/step - loss: 0.9215 - categorical_accuracy: 0.8621\n",
            "Epoch 13/30\n",
            "42/42 [==============================] - 1s 13ms/step - loss: 1.2629 - categorical_accuracy: 0.8660\n",
            "Epoch 14/30\n",
            "42/42 [==============================] - 1s 12ms/step - loss: 0.4527 - categorical_accuracy: 0.8987\n",
            "Epoch 15/30\n",
            "42/42 [==============================] - 1s 16ms/step - loss: 0.2749 - categorical_accuracy: 0.9208\n",
            "Epoch 16/30\n",
            "42/42 [==============================] - 1s 19ms/step - loss: 0.2064 - categorical_accuracy: 0.9353\n",
            "Epoch 17/30\n",
            "42/42 [==============================] - 1s 21ms/step - loss: 0.1689 - categorical_accuracy: 0.9467\n",
            "Epoch 18/30\n",
            "42/42 [==============================] - 1s 15ms/step - loss: 0.1518 - categorical_accuracy: 0.9459\n",
            "Epoch 19/30\n",
            "42/42 [==============================] - 1s 14ms/step - loss: 0.1301 - categorical_accuracy: 0.9589\n",
            "Epoch 20/30\n",
            "42/42 [==============================] - 1s 13ms/step - loss: 0.1626 - categorical_accuracy: 0.9452\n",
            "Epoch 21/30\n",
            "42/42 [==============================] - 1s 13ms/step - loss: 0.1198 - categorical_accuracy: 0.9581\n",
            "Epoch 22/30\n",
            "42/42 [==============================] - 1s 13ms/step - loss: 0.1038 - categorical_accuracy: 0.9711\n",
            "Epoch 23/30\n",
            "42/42 [==============================] - 1s 13ms/step - loss: 0.0877 - categorical_accuracy: 0.9810\n",
            "Epoch 24/30\n",
            "42/42 [==============================] - 1s 13ms/step - loss: 0.0825 - categorical_accuracy: 0.9779\n",
            "Epoch 25/30\n",
            "42/42 [==============================] - 1s 18ms/step - loss: 0.0782 - categorical_accuracy: 0.9794\n",
            "Epoch 26/30\n",
            "42/42 [==============================] - 1s 19ms/step - loss: 0.0699 - categorical_accuracy: 0.9863\n",
            "Epoch 27/30\n",
            "42/42 [==============================] - 1s 20ms/step - loss: 0.0603 - categorical_accuracy: 0.9863\n",
            "Epoch 28/30\n",
            "42/42 [==============================] - 1s 20ms/step - loss: 0.0567 - categorical_accuracy: 0.9901\n",
            "Epoch 29/30\n",
            "42/42 [==============================] - 1s 20ms/step - loss: 0.0480 - categorical_accuracy: 0.9901\n",
            "Epoch 30/30\n",
            "42/42 [==============================] - 1s 22ms/step - loss: 0.0450 - categorical_accuracy: 0.9947\n",
            "Validation accuracy: 0.872\n",
            "Epoch 1/30\n",
            "42/42 [==============================] - 2s 15ms/step - loss: 14.0235 - categorical_accuracy: 0.6915\n",
            "Epoch 2/30\n",
            "42/42 [==============================] - 1s 13ms/step - loss: 2.7686 - categorical_accuracy: 0.7555\n",
            "Epoch 3/30\n",
            "42/42 [==============================] - 1s 13ms/step - loss: 6.2127 - categorical_accuracy: 0.7266\n",
            "Epoch 4/30\n",
            "42/42 [==============================] - 1s 13ms/step - loss: 3.2910 - categorical_accuracy: 0.7913\n",
            "Epoch 5/30\n",
            "42/42 [==============================] - 1s 13ms/step - loss: 4.3404 - categorical_accuracy: 0.7441\n",
            "Epoch 6/30\n",
            "42/42 [==============================] - 1s 12ms/step - loss: 2.1719 - categorical_accuracy: 0.7974\n",
            "Epoch 7/30\n",
            "42/42 [==============================] - 1s 14ms/step - loss: 2.7985 - categorical_accuracy: 0.7395\n",
            "Epoch 8/30\n",
            "42/42 [==============================] - 1s 15ms/step - loss: 0.8036 - categorical_accuracy: 0.7784\n",
            "Epoch 9/30\n",
            "42/42 [==============================] - 1s 13ms/step - loss: 0.7733 - categorical_accuracy: 0.8385\n",
            "Epoch 10/30\n",
            "42/42 [==============================] - 1s 13ms/step - loss: 0.6226 - categorical_accuracy: 0.8248\n",
            "Epoch 11/30\n",
            "42/42 [==============================] - 1s 13ms/step - loss: 0.3992 - categorical_accuracy: 0.8439\n",
            "Epoch 12/30\n",
            "42/42 [==============================] - 1s 13ms/step - loss: 1.0115 - categorical_accuracy: 0.7449\n",
            "Epoch 13/30\n",
            "42/42 [==============================] - 1s 15ms/step - loss: 0.4486 - categorical_accuracy: 0.8500\n",
            "Epoch 14/30\n",
            "42/42 [==============================] - 1s 14ms/step - loss: 0.3404 - categorical_accuracy: 0.8812\n",
            "Epoch 15/30\n",
            "42/42 [==============================] - 1s 16ms/step - loss: 0.3057 - categorical_accuracy: 0.8865\n",
            "Epoch 16/30\n",
            "42/42 [==============================] - 1s 19ms/step - loss: 0.2800 - categorical_accuracy: 0.8972\n",
            "Epoch 17/30\n",
            "42/42 [==============================] - 1s 20ms/step - loss: 0.2783 - categorical_accuracy: 0.8957\n",
            "Epoch 18/30\n",
            "42/42 [==============================] - 1s 21ms/step - loss: 0.2556 - categorical_accuracy: 0.9010\n",
            "Epoch 19/30\n",
            "42/42 [==============================] - 2s 48ms/step - loss: 0.2559 - categorical_accuracy: 0.9010\n",
            "Epoch 20/30\n",
            "42/42 [==============================] - 1s 16ms/step - loss: 0.2378 - categorical_accuracy: 0.9139\n",
            "Epoch 21/30\n",
            "42/42 [==============================] - 1s 14ms/step - loss: 0.2254 - categorical_accuracy: 0.9155\n",
            "Epoch 22/30\n",
            "42/42 [==============================] - 1s 13ms/step - loss: 0.2167 - categorical_accuracy: 0.9132\n",
            "Epoch 23/30\n",
            "42/42 [==============================] - 1s 13ms/step - loss: 0.2215 - categorical_accuracy: 0.9231\n",
            "Epoch 24/30\n",
            "42/42 [==============================] - 1s 13ms/step - loss: 0.2051 - categorical_accuracy: 0.9200\n",
            "Epoch 25/30\n",
            "42/42 [==============================] - 1s 13ms/step - loss: 0.1975 - categorical_accuracy: 0.9261\n",
            "Epoch 26/30\n",
            "42/42 [==============================] - 1s 13ms/step - loss: 0.1891 - categorical_accuracy: 0.9345\n",
            "Epoch 27/30\n",
            "42/42 [==============================] - 1s 13ms/step - loss: 0.1811 - categorical_accuracy: 0.9315\n",
            "Epoch 28/30\n",
            "42/42 [==============================] - 1s 13ms/step - loss: 0.1748 - categorical_accuracy: 0.9299\n",
            "Epoch 29/30\n",
            "42/42 [==============================] - 1s 13ms/step - loss: 0.1637 - categorical_accuracy: 0.9383\n",
            "Epoch 30/30\n",
            "42/42 [==============================] - 1s 13ms/step - loss: 0.1635 - categorical_accuracy: 0.9459\n",
            "Validation accuracy: 0.878\n",
            "Epoch 1/30\n",
            "42/42 [==============================] - 2s 16ms/step - loss: 1.7765 - categorical_accuracy: 0.6885\n",
            "Epoch 2/30\n",
            "42/42 [==============================] - 1s 16ms/step - loss: 0.9286 - categorical_accuracy: 0.7555\n",
            "Epoch 3/30\n",
            "42/42 [==============================] - 1s 22ms/step - loss: 1.9020 - categorical_accuracy: 0.7471\n",
            "Epoch 4/30\n",
            "42/42 [==============================] - 1s 21ms/step - loss: 0.6578 - categorical_accuracy: 0.8317\n",
            "Epoch 5/30\n",
            "42/42 [==============================] - 1s 20ms/step - loss: 0.3402 - categorical_accuracy: 0.8675\n",
            "Epoch 6/30\n",
            "42/42 [==============================] - 1s 20ms/step - loss: 0.6134 - categorical_accuracy: 0.8477\n",
            "Epoch 7/30\n",
            "42/42 [==============================] - 1s 20ms/step - loss: 0.5498 - categorical_accuracy: 0.8568\n",
            "Epoch 8/30\n",
            "42/42 [==============================] - 1s 17ms/step - loss: 3.2984 - categorical_accuracy: 0.7502\n",
            "Epoch 9/30\n",
            "42/42 [==============================] - 1s 13ms/step - loss: 1.9981 - categorical_accuracy: 0.7570\n",
            "Epoch 10/30\n",
            "42/42 [==============================] - 1s 13ms/step - loss: 1.0844 - categorical_accuracy: 0.8027\n",
            "Epoch 11/30\n",
            "42/42 [==============================] - 1s 13ms/step - loss: 0.3472 - categorical_accuracy: 0.8591\n",
            "Epoch 12/30\n",
            "42/42 [==============================] - 1s 14ms/step - loss: 0.2942 - categorical_accuracy: 0.8987\n",
            "Epoch 13/30\n",
            "42/42 [==============================] - 1s 13ms/step - loss: 0.2937 - categorical_accuracy: 0.8972\n",
            "Epoch 14/30\n",
            "42/42 [==============================] - 1s 13ms/step - loss: 0.4574 - categorical_accuracy: 0.8835\n",
            "Epoch 15/30\n",
            "42/42 [==============================] - 1s 13ms/step - loss: 0.2580 - categorical_accuracy: 0.9018\n",
            "Epoch 16/30\n",
            "42/42 [==============================] - 1s 13ms/step - loss: 0.2175 - categorical_accuracy: 0.9086\n",
            "Epoch 17/30\n",
            "42/42 [==============================] - 1s 14ms/step - loss: 0.1816 - categorical_accuracy: 0.9223\n",
            "Epoch 18/30\n",
            "42/42 [==============================] - 1s 15ms/step - loss: 0.1572 - categorical_accuracy: 0.9330\n",
            "Epoch 19/30\n",
            "42/42 [==============================] - 1s 15ms/step - loss: 0.1886 - categorical_accuracy: 0.9246\n",
            "Epoch 20/30\n",
            "42/42 [==============================] - 1s 14ms/step - loss: 0.1548 - categorical_accuracy: 0.9337\n",
            "Epoch 21/30\n",
            "42/42 [==============================] - 1s 14ms/step - loss: 0.1397 - categorical_accuracy: 0.9436\n",
            "Epoch 22/30\n",
            "42/42 [==============================] - 1s 13ms/step - loss: 0.1186 - categorical_accuracy: 0.9505\n",
            "Epoch 23/30\n",
            "42/42 [==============================] - 1s 13ms/step - loss: 0.1088 - categorical_accuracy: 0.9573\n",
            "Epoch 24/30\n",
            "42/42 [==============================] - 1s 13ms/step - loss: 0.1036 - categorical_accuracy: 0.9619\n",
            "Epoch 25/30\n",
            "42/42 [==============================] - 1s 13ms/step - loss: 0.1319 - categorical_accuracy: 0.9497\n",
            "Epoch 26/30\n",
            "42/42 [==============================] - 1s 20ms/step - loss: 0.1007 - categorical_accuracy: 0.9642\n",
            "Epoch 27/30\n",
            "42/42 [==============================] - 1s 20ms/step - loss: 0.0872 - categorical_accuracy: 0.9695\n",
            "Epoch 28/30\n",
            "42/42 [==============================] - 1s 20ms/step - loss: 0.0742 - categorical_accuracy: 0.9703\n",
            "Epoch 29/30\n",
            "42/42 [==============================] - 1s 21ms/step - loss: 0.0677 - categorical_accuracy: 0.9711\n",
            "Epoch 30/30\n",
            "42/42 [==============================] - 1s 22ms/step - loss: 0.0549 - categorical_accuracy: 0.9825\n",
            "Validation accuracy: 0.909\n"
          ]
        }
      ]
    },
    {
      "cell_type": "code",
      "source": [
        "model.save('Downloads')\n",
        "# Convert the model to the TensorFlow Lite format without quantization\n",
        "converter = tf.lite.TFLiteConverter.from_saved_model('Downloads')\n",
        "converter.target_spec.supported_ops = [\n",
        "  tf.lite.OpsSet.TFLITE_BUILTINS, # enable TensorFlow Lite ops.\n",
        "  tf.lite.OpsSet.SELECT_TF_OPS # enable TensorFlow ops.\n",
        "]\n",
        "model_no_quant_tflite = converter.convert()\n",
        "\n",
        "# Save the model to disk\n",
        "open('model.tflite', \"wb\").write(model_no_quant_tflite)"
      ],
      "metadata": {
        "colab": {
          "base_uri": "https://localhost:8080/"
        },
        "id": "xZZSNwIY8dZo",
        "outputId": "7907ebcb-974c-481f-ee77-72efb17f8bbc"
      },
      "execution_count": 40,
      "outputs": [
        {
          "output_type": "stream",
          "name": "stderr",
          "text": [
            "WARNING:absl:Found untraced functions such as _jit_compiled_convolution_op, _jit_compiled_convolution_op, _jit_compiled_convolution_op, _update_step_xla while saving (showing 4 of 4). These functions will not be directly callable after loading.\n"
          ]
        },
        {
          "output_type": "execute_result",
          "data": {
            "text/plain": [
              "123356"
            ]
          },
          "metadata": {},
          "execution_count": 40
        }
      ]
    },
    {
      "cell_type": "code",
      "source": [
        "# # Prepare the test data\n",
        "# Initialize the TFLite interpreter\n",
        "# filename = 'BlinkingCNN.tflite'\n",
        "# interpreter = tf.lite.Interpreter(model_path=filename)\n",
        "interpreter = tf.lite.Interpreter(model_content=model_no_quant_tflite)\n",
        "\n",
        "input_details = interpreter.get_input_details()\n",
        "output_details = interpreter.get_output_details()\n",
        "interpreter.allocate_tensors()\n",
        "# Invoke the interpreter\n",
        "\n",
        "X_test = np.float32(Eye_Directions_freq_domain_data)\n",
        "X_test = np.transpose(X_test, (0, 2, 1))\n",
        "y_pred = np.empty(len(X_test), dtype=object)\n",
        "for i in range(len(X_test)):\n",
        "  interpreter.set_tensor(input_details[0][\"index\"], [X_test[i]])\n",
        "  interpreter.invoke()\n",
        "  y_pred[i] = interpreter.get_tensor(output_details[0][\"index\"])\n"
      ],
      "metadata": {
        "id": "SpbyCNVJ9Nhl"
      },
      "execution_count": 41,
      "outputs": []
    },
    {
      "cell_type": "code",
      "source": [
        "y_pred = np.array(y_pred)"
      ],
      "metadata": {
        "id": "AN_3MYZl210r"
      },
      "execution_count": 42,
      "outputs": []
    },
    {
      "cell_type": "code",
      "source": [
        "print(y_pred)"
      ],
      "metadata": {
        "colab": {
          "base_uri": "https://localhost:8080/"
        },
        "id": "hHujGg0Z3NCL",
        "outputId": "71957c6e-8fbd-4441-809e-7cc69eb508a0"
      },
      "execution_count": 43,
      "outputs": [
        {
          "output_type": "stream",
          "name": "stdout",
          "text": [
            "[array([[9.9999905e-01, 9.7574191e-14, 9.4460006e-07]], dtype=float32)\n",
            " array([[1.6123226e-03, 3.0791920e-09, 9.9838769e-01]], dtype=float32)\n",
            " array([[5.3495919e-09, 1.3049787e-13, 1.0000000e+00]], dtype=float32) ...\n",
            " array([[1.000000e+00, 1.802504e-36, 4.638685e-16]], dtype=float32)\n",
            " array([[4.1234746e-27, 1.0000000e+00, 1.7385987e-19]], dtype=float32)\n",
            " array([[9.922346e-01, 9.486464e-19, 7.765451e-03]], dtype=float32)]\n"
          ]
        }
      ]
    },
    {
      "cell_type": "code",
      "source": [
        "ypred = [0 for _ in range(len(Eye_Directions_Labels))]\n",
        "for i in range(len(Eye_Directions_Labels)):\n",
        "  ypred[i] = y_pred[i][0].argmax()\n"
      ],
      "metadata": {
        "id": "pBLh9L7X1QMz"
      },
      "execution_count": 44,
      "outputs": []
    },
    {
      "cell_type": "code",
      "source": [
        "# for i in range(len(y_pred)):\n",
        "#   print(np.shape(y_pred[i]))\n",
        "\n",
        "z = len(y_pred)\n",
        "Range = np.linspace(0, 1276, z)\n",
        "sns.relplot(x=Range, y=ypred, hue=Eye_Directions_Labels)"
      ],
      "metadata": {
        "colab": {
          "base_uri": "https://localhost:8080/",
          "height": 504
        },
        "id": "9QiO_AYR-szD",
        "outputId": "62aeae37-0b21-44fa-a22b-dde9dba4d2d9"
      },
      "execution_count": 45,
      "outputs": [
        {
          "output_type": "execute_result",
          "data": {
            "text/plain": [
              "<seaborn.axisgrid.FacetGrid at 0x7f562cc205e0>"
            ]
          },
          "metadata": {},
          "execution_count": 45
        },
        {
          "output_type": "display_data",
          "data": {
            "text/plain": [
              "<Figure size 558.875x500 with 1 Axes>"
            ],
            "image/png": "[encoded data removed]"
          },
          "metadata": {}
        }
      ]
    },
    {
      "cell_type": "code",
      "source": [
        "confusion_matrix = metrics.confusion_matrix(Eye_Directions_Labels, ypred)\n",
        "\n",
        "cm_display = metrics.ConfusionMatrixDisplay(confusion_matrix = confusion_matrix, display_labels = ['Left', 'Center', 'Right'])\n",
        "\n",
        "cm_display.plot()\n",
        "plt.show()"
      ],
      "metadata": {
        "colab": {
          "base_uri": "https://localhost:8080/",
          "height": 449
        },
        "id": "87owL5Zr4rT2",
        "outputId": "cc9f708f-5607-40c2-ed4b-a98a2b6ec45f"
      },
      "execution_count": 46,
      "outputs": [
        {
          "output_type": "display_data",
          "data": {
            "text/plain": [
              "<Figure size 640x480 with 2 Axes>"
            ],
            "image/png": "[encoded data removed]"
          },
          "metadata": {}
        }
      ]
    },
    {
      "cell_type": "code",
      "source": [
        "# Righttt = pd.read_csv('gdrive/MyDrive/Left_Right_CNN_Data/hamza/Right_hamza.csv')\n",
        "\n",
        "# Righttt = Righttt.drop(['timestamps','Right AUX'], axis = 1, errors='ignore')\n",
        "# Righttt = np.array(Righttt)\n",
        "# Righttt = np.transpose(Righttt)\n",
        "\n",
        "# windows_Right_Data = get_windows(Righttt, 480, 128)\n",
        "\n",
        "# labels = [2 for _ in range(windows_Right_Data.shape[0])]\n",
        "\n",
        "# windows_Right_Data = np.array(windows_Right_Data)\n",
        "# labels = np.array(labels)\n",
        "\n",
        "# windows_Right_Data = time_to_freq_domain(windows_Right_Data)\n",
        "# windows_Right_Data = np.array(windows_Right_Data)\n",
        "\n",
        "# X_test = np.float32(windows_Right_Data)\n",
        "# X_test = np.transpose(X_test, (0, 2, 1))\n",
        "# y_pred = np.empty(len(X_test), dtype=object)\n",
        "# for i in range(len(X_test)):\n",
        "#   interpreter.set_tensor(input_details[0][\"index\"], [X_test[i]])\n",
        "#   interpreter.invoke()\n",
        "#   y_pred[i] = interpreter.get_tensor(output_details[0][\"index\"])"
      ],
      "metadata": {
        "id": "PEfRRPuof-Hk"
      },
      "execution_count": 55,
      "outputs": []
    }
  ]
}